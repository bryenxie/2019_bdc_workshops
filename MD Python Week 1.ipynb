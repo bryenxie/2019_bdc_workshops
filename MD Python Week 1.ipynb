{
 "cells": [
  {
   "cell_type": "markdown",
   "metadata": {},
   "source": [
    "<img src=\"http://stemfellowship.org/wp-content/uploads/2016/10/STEMF-logo-blue-no-back-6.png\" alt=\"STEM Fellowship\" style=\"width:500px;height:120px;\">\n",
    "\n",
    "<h1 style=\"font-family:georgia;\"><p style=\"text-align: center;\"> Welcome to the Python for Data Science Workshop! </p></h1>\n",
    "\n",
    "The Big Data Challenge is a wonderful opporunity to learn new skills in a growing field of STEM, but we know how tough it can be to do something for the first time. These workshops were developed to help newcomers to coding and to Data Science grow comfortable with programming and the Data Science process.  \n",
    "Have a burning question you want to ask? Feel free to contact us with any comments, questions, or concerns.  \n",
    "Best wishes,  \n",
    "The Data Science Team\n",
    "\n",
    "## THE PROBLEM\n",
    "An interesting fact about space launches is that solid-fuel rockets emit chlorine gas that can destroy the ozone in the stratosphere. If space travel is in our future, does that mean that the ozone layer is doomed?\n",
    "Well, not necessarily. SpaceX rockets, for example, are liquid-fuel, and don't contain the chlorine that solid-fuel rockets do. They're also promising products in the development of space travel. To see if these rockets are the solution to ozone-friendly space travel, we can take a look at ozone levels over time and make note of when SpaceX launches occur.\n",
    "Additionally, we can see if there's any other factors to look into with SpaceX Launches.\n",
    "\n",
    "## SETUP\n",
    "To download Python, follow the instructions here.  \n",
    "Recommended: The python3 Jupyter Kernel\n",
    "We will also beusing Pandas, Python's data analytics library\n",
    "\n",
    "## DATA\n",
    "The first thing to do is to gather data. We want our data to comprise of SpaceX Launches and ozone concentrations. Since that combination is pretty specific, our best bet is to find data on ozone concentrations and data on SpaceX Launches, and then combine them.\n",
    "For this data\n",
    "We want data on SpaceX Launches first, so that's where we'll start!\n",
    "\n",
    "Python supports reading different types of data files, but we'll be dealing with **.csv**, or comma-separated value files. Additionally, there are a few different ways of accessing data - using a direct link, downloading the data and referencing the file, or using an API. For this dataset, we can look at how to use to bring in SpaceX Launch data using a direct link.\n",
    "The dataset we are referencing was [taken from Kaggle](https://www.kaggle.com/scoleman/spacex-launch-data) and can be found in the GitHub for the 2019 BDC Workshops [here](https://github.com/bigdatachallenge/2019_bdc_workshops/blob/master/spacex_launch_data.csv). In order for Python to be able to interpret the data, we need it to be in raw format. You can access this format by pressing the 'Raw' button or by clicking [here](https://raw.githubusercontent.com/bigdatachallenge/2019_bdc_workshops/master/spacex_launch_data.csv).)\n",
    "(By the way, now you know why it's called a comma-separated value file!)\n",
    "\n",
    "So now we have a link!\n",
    "https://github.com/bigdatachallenge/2019_bdc_workshops/blob/master/spacex_launch_data.csv\n",
    "\n",
    "To start with, pandas has a `read_csv()` function that can turn our data into a data frame. Let's **store the data** into a **variable** called SpaceX_Launches."
   ]
  },
  {
   "cell_type": "code",
   "execution_count": 1,
   "metadata": {},
   "outputs": [],
   "source": [
    "import pandas as pd\n",
    "%matplotlib inline\n",
    "import matplotlib.pyplot as plt"
   ]
  },
  {
   "cell_type": "code",
   "execution_count": 2,
   "metadata": {},
   "outputs": [],
   "source": [
    "SpaceX_Launches = pd.read_csv('https://raw.githubusercontent.com/bigdatachallenge/2019_bdc_workshops/master/spacex_launch_data.csv')"
   ]
  },
  {
   "cell_type": "markdown",
   "metadata": {},
   "source": [
    "We can take a look at the first six rows of our dataset using the `head()` function."
   ]
  },
  {
   "cell_type": "code",
   "execution_count": 3,
   "metadata": {},
   "outputs": [
    {
     "data": {
      "text/html": [
       "<div>\n",
       "<style scoped>\n",
       "    .dataframe tbody tr th:only-of-type {\n",
       "        vertical-align: middle;\n",
       "    }\n",
       "\n",
       "    .dataframe tbody tr th {\n",
       "        vertical-align: top;\n",
       "    }\n",
       "\n",
       "    .dataframe thead th {\n",
       "        text-align: right;\n",
       "    }\n",
       "</style>\n",
       "<table border=\"1\" class=\"dataframe\">\n",
       "  <thead>\n",
       "    <tr style=\"text-align: right;\">\n",
       "      <th></th>\n",
       "      <th>Flight Number</th>\n",
       "      <th>Date</th>\n",
       "      <th>Time (UTC)</th>\n",
       "      <th>Booster Version</th>\n",
       "      <th>Launch Site</th>\n",
       "      <th>Payload</th>\n",
       "      <th>Payload Mass (kg)</th>\n",
       "      <th>Orbit</th>\n",
       "      <th>Customer</th>\n",
       "      <th>Mission Outcome</th>\n",
       "      <th>Landing Outcome</th>\n",
       "    </tr>\n",
       "  </thead>\n",
       "  <tbody>\n",
       "    <tr>\n",
       "      <th>0</th>\n",
       "      <td>1</td>\n",
       "      <td>2010-06-04</td>\n",
       "      <td>18:45:00</td>\n",
       "      <td>F9 v1.0  B0003</td>\n",
       "      <td>CCAFS LC-40</td>\n",
       "      <td>Dragon Spacecraft Qualification Unit</td>\n",
       "      <td>NaN</td>\n",
       "      <td>LEO</td>\n",
       "      <td>SpaceX</td>\n",
       "      <td>Success</td>\n",
       "      <td>Failure   (parachute)</td>\n",
       "    </tr>\n",
       "    <tr>\n",
       "      <th>1</th>\n",
       "      <td>2</td>\n",
       "      <td>2010-12-08</td>\n",
       "      <td>15:43:00</td>\n",
       "      <td>F9 v1.0  B0004</td>\n",
       "      <td>CCAFS LC-40</td>\n",
       "      <td>Dragon demo flight C1, two CubeSats,  barrel o...</td>\n",
       "      <td>NaN</td>\n",
       "      <td>LEO (ISS)</td>\n",
       "      <td>NASA (COTS) NRO</td>\n",
       "      <td>Success</td>\n",
       "      <td>Failure   (parachute)</td>\n",
       "    </tr>\n",
       "    <tr>\n",
       "      <th>2</th>\n",
       "      <td>3</td>\n",
       "      <td>2012-05-22</td>\n",
       "      <td>7:44:00</td>\n",
       "      <td>F9 v1.0  B0005</td>\n",
       "      <td>CCAFS LC-40</td>\n",
       "      <td>Dragon demo flight C2+</td>\n",
       "      <td>525</td>\n",
       "      <td>LEO (ISS)</td>\n",
       "      <td>NASA (COTS)</td>\n",
       "      <td>Success</td>\n",
       "      <td>No attempt</td>\n",
       "    </tr>\n",
       "    <tr>\n",
       "      <th>3</th>\n",
       "      <td>4</td>\n",
       "      <td>2012-10-08</td>\n",
       "      <td>0:35:00</td>\n",
       "      <td>F9 v1.0  B0006</td>\n",
       "      <td>CCAFS LC-40</td>\n",
       "      <td>SpaceX CRS-1</td>\n",
       "      <td>500</td>\n",
       "      <td>LEO (ISS)</td>\n",
       "      <td>NASA (CRS)</td>\n",
       "      <td>Success</td>\n",
       "      <td>No attempt</td>\n",
       "    </tr>\n",
       "    <tr>\n",
       "      <th>4</th>\n",
       "      <td>5</td>\n",
       "      <td>2013-03-01</td>\n",
       "      <td>15:10:00</td>\n",
       "      <td>F9 v1.0  B0007</td>\n",
       "      <td>CCAFS LC-40</td>\n",
       "      <td>SpaceX CRS-2</td>\n",
       "      <td>677</td>\n",
       "      <td>LEO (ISS)</td>\n",
       "      <td>NASA (CRS)</td>\n",
       "      <td>Success</td>\n",
       "      <td>No attempt</td>\n",
       "    </tr>\n",
       "  </tbody>\n",
       "</table>\n",
       "</div>"
      ],
      "text/plain": [
       "  Flight Number        Date Time (UTC) Booster Version  Launch Site  \\\n",
       "0             1  2010-06-04   18:45:00  F9 v1.0  B0003  CCAFS LC-40   \n",
       "1             2  2010-12-08   15:43:00  F9 v1.0  B0004  CCAFS LC-40   \n",
       "2             3  2012-05-22    7:44:00  F9 v1.0  B0005  CCAFS LC-40   \n",
       "3             4  2012-10-08    0:35:00  F9 v1.0  B0006  CCAFS LC-40   \n",
       "4             5  2013-03-01   15:10:00  F9 v1.0  B0007  CCAFS LC-40   \n",
       "\n",
       "                                             Payload Payload Mass (kg)  \\\n",
       "0               Dragon Spacecraft Qualification Unit               NaN   \n",
       "1  Dragon demo flight C1, two CubeSats,  barrel o...               NaN   \n",
       "2                             Dragon demo flight C2+              525    \n",
       "3                                       SpaceX CRS-1              500    \n",
       "4                                       SpaceX CRS-2              677    \n",
       "\n",
       "       Orbit         Customer Mission Outcome        Landing Outcome  \n",
       "0        LEO           SpaceX         Success  Failure   (parachute)  \n",
       "1  LEO (ISS)  NASA (COTS) NRO         Success  Failure   (parachute)  \n",
       "2  LEO (ISS)      NASA (COTS)         Success             No attempt  \n",
       "3  LEO (ISS)       NASA (CRS)         Success             No attempt  \n",
       "4  LEO (ISS)       NASA (CRS)         Success             No attempt  "
      ]
     },
     "execution_count": 3,
     "metadata": {},
     "output_type": "execute_result"
    }
   ],
   "source": [
    "SpaceX_Launches.head()"
   ]
  },
  {
   "cell_type": "markdown",
   "metadata": {},
   "source": [
    "Now that we have our data, we should get an idea of what our data contains. We can do this using the **describe()** function in pandas."
   ]
  },
  {
   "cell_type": "code",
   "execution_count": 4,
   "metadata": {},
   "outputs": [
    {
     "data": {
      "text/html": [
       "<div>\n",
       "<style scoped>\n",
       "    .dataframe tbody tr th:only-of-type {\n",
       "        vertical-align: middle;\n",
       "    }\n",
       "\n",
       "    .dataframe tbody tr th {\n",
       "        vertical-align: top;\n",
       "    }\n",
       "\n",
       "    .dataframe thead th {\n",
       "        text-align: right;\n",
       "    }\n",
       "</style>\n",
       "<table border=\"1\" class=\"dataframe\">\n",
       "  <thead>\n",
       "    <tr style=\"text-align: right;\">\n",
       "      <th></th>\n",
       "      <th>Flight Number</th>\n",
       "      <th>Date</th>\n",
       "      <th>Time (UTC)</th>\n",
       "      <th>Booster Version</th>\n",
       "      <th>Launch Site</th>\n",
       "      <th>Payload</th>\n",
       "      <th>Payload Mass (kg)</th>\n",
       "      <th>Orbit</th>\n",
       "      <th>Customer</th>\n",
       "      <th>Mission Outcome</th>\n",
       "      <th>Landing Outcome</th>\n",
       "    </tr>\n",
       "  </thead>\n",
       "  <tbody>\n",
       "    <tr>\n",
       "      <th>count</th>\n",
       "      <td>57</td>\n",
       "      <td>57</td>\n",
       "      <td>57</td>\n",
       "      <td>57</td>\n",
       "      <td>57</td>\n",
       "      <td>57</td>\n",
       "      <td>55</td>\n",
       "      <td>57</td>\n",
       "      <td>57</td>\n",
       "      <td>57</td>\n",
       "      <td>57</td>\n",
       "    </tr>\n",
       "    <tr>\n",
       "      <th>unique</th>\n",
       "      <td>57</td>\n",
       "      <td>57</td>\n",
       "      <td>55</td>\n",
       "      <td>53</td>\n",
       "      <td>4</td>\n",
       "      <td>57</td>\n",
       "      <td>48</td>\n",
       "      <td>8</td>\n",
       "      <td>30</td>\n",
       "      <td>3</td>\n",
       "      <td>12</td>\n",
       "    </tr>\n",
       "    <tr>\n",
       "      <th>top</th>\n",
       "      <td>47</td>\n",
       "      <td>2016-05-27</td>\n",
       "      <td>23:03:00</td>\n",
       "      <td>F9 v1.1</td>\n",
       "      <td>CCAFS LC-40</td>\n",
       "      <td>SpaceX CRS-8</td>\n",
       "      <td>9,600</td>\n",
       "      <td>GTO</td>\n",
       "      <td>NASA (CRS)</td>\n",
       "      <td>Success</td>\n",
       "      <td>No attempt</td>\n",
       "    </tr>\n",
       "    <tr>\n",
       "      <th>freq</th>\n",
       "      <td>1</td>\n",
       "      <td>1</td>\n",
       "      <td>2</td>\n",
       "      <td>5</td>\n",
       "      <td>26</td>\n",
       "      <td>1</td>\n",
       "      <td>5</td>\n",
       "      <td>22</td>\n",
       "      <td>14</td>\n",
       "      <td>55</td>\n",
       "      <td>18</td>\n",
       "    </tr>\n",
       "  </tbody>\n",
       "</table>\n",
       "</div>"
      ],
      "text/plain": [
       "       Flight Number        Date Time (UTC) Booster Version  Launch Site  \\\n",
       "count             57          57         57              57           57   \n",
       "unique            57          57         55              53            4   \n",
       "top               47  2016-05-27   23:03:00         F9 v1.1  CCAFS LC-40   \n",
       "freq               1           1          2               5           26   \n",
       "\n",
       "             Payload Payload Mass (kg) Orbit    Customer Mission Outcome  \\\n",
       "count             57                55    57          57              57   \n",
       "unique            57                48     8          30               3   \n",
       "top     SpaceX CRS-8            9,600    GTO  NASA (CRS)         Success   \n",
       "freq               1                 5    22          14              55   \n",
       "\n",
       "       Landing Outcome  \n",
       "count               57  \n",
       "unique              12  \n",
       "top         No attempt  \n",
       "freq                18  "
      ]
     },
     "execution_count": 4,
     "metadata": {},
     "output_type": "execute_result"
    }
   ],
   "source": [
    "SpaceX_Launches.describe()"
   ]
  },
  {
   "cell_type": "markdown",
   "metadata": {},
   "source": [
    "This gives us some insight into what our data is saying. We see that it spans the years from 2010 to 2018, with the median being at 2017. We can see there are fifty-seven flights recorded by the length indicated under each variable. We also see a a problem; the Payload Mass is an **object** value when it should probably be a **float** value.\n",
    "\n",
    "With this insight, we are ready to start cleaning. Let's take a look at the Payload Mass column."
   ]
  },
  {
   "cell_type": "code",
   "execution_count": 5,
   "metadata": {},
   "outputs": [
    {
     "data": {
      "text/plain": [
       "0            NaN\n",
       "1            NaN\n",
       "2           525 \n",
       "3           500 \n",
       "4           677 \n",
       "5           500 \n",
       "6         3,170 \n",
       "7         3,325 \n",
       "8         2,296 \n",
       "9         1,316 \n",
       "10        4,535 \n",
       "11        4,428 \n",
       "12        2,216 \n",
       "13        2,395 \n",
       "14          570 \n",
       "15        4,159 \n",
       "16        1,898 \n",
       "17        4,707 \n",
       "18        1,952 \n",
       "19        2,034 \n",
       "20          553 \n",
       "21        5,271 \n",
       "22        3,136 \n",
       "23        4,696 \n",
       "24        3,100 \n",
       "25        3,600 \n",
       "26        2,257 \n",
       "27        4,600 \n",
       "28        9,600 \n",
       "29        2,490 \n",
       "30        5,600 \n",
       "31        5,300 \n",
       "32    Classified\n",
       "33        6,070 \n",
       "34        2,708 \n",
       "35        3,669 \n",
       "36        9,600 \n",
       "37        6,761 \n",
       "38        3,310 \n",
       "39          475 \n",
       "40        4,990 \n",
       "41        9,600 \n",
       "42        5,200 \n",
       "43        3,500 \n",
       "44        2,205 \n",
       "45        9,600 \n",
       "46    Classified\n",
       "47        4,230 \n",
       "48       ~1,250 \n",
       "49        2,150 \n",
       "50        6,092 \n",
       "51        9,600 \n",
       "52        2,647 \n",
       "53          362 \n",
       "54        3,600 \n",
       "55        6,460 \n",
       "56        5,384 \n",
       "Name: Payload Mass (kg), dtype: object"
      ]
     },
     "execution_count": 5,
     "metadata": {},
     "output_type": "execute_result"
    }
   ],
   "source": [
    "SpaceX_Launches['Payload Mass (kg)']"
   ]
  },
  {
   "cell_type": "markdown",
   "metadata": {},
   "source": [
    "We can immediately understand why the data is a character - there are 'Classified' values and a value that estimates with a tilde in front of it. Lastly, there are spaces at the end of every value. We can modify these columns using the `map` and string index functions. "
   ]
  },
  {
   "cell_type": "code",
   "execution_count": 5,
   "metadata": {},
   "outputs": [
    {
     "data": {
      "text/plain": [
       "0     -999\n",
       "1     -999\n",
       "2      525\n",
       "3      500\n",
       "4      677\n",
       "5      500\n",
       "6     3170\n",
       "7     3325\n",
       "8     2296\n",
       "9     1316\n",
       "10    4535\n",
       "11    4428\n",
       "12    2216\n",
       "13    2395\n",
       "14     570\n",
       "15    4159\n",
       "16    1898\n",
       "17    4707\n",
       "18    1952\n",
       "19    2034\n",
       "20     553\n",
       "21    5271\n",
       "22    3136\n",
       "23    4696\n",
       "24    3100\n",
       "25    3600\n",
       "26    2257\n",
       "27    4600\n",
       "28    9600\n",
       "29    2490\n",
       "30    5600\n",
       "31    5300\n",
       "32    -999\n",
       "33    6070\n",
       "34    2708\n",
       "35    3669\n",
       "36    9600\n",
       "37    6761\n",
       "38    3310\n",
       "39     475\n",
       "40    4990\n",
       "41    9600\n",
       "42    5200\n",
       "43    3500\n",
       "44    2205\n",
       "45    9600\n",
       "46    -999\n",
       "47    4230\n",
       "48    1250\n",
       "49    2150\n",
       "50    6092\n",
       "51    9600\n",
       "52    2647\n",
       "53     362\n",
       "54    3600\n",
       "55    6460\n",
       "56    5384\n",
       "Name: Payload Mass (kg), dtype: int64"
      ]
     },
     "execution_count": 5,
     "metadata": {},
     "output_type": "execute_result"
    }
   ],
   "source": [
    "SpaceX_Launches['Payload Mass (kg)'] = SpaceX_Launches['Payload Mass (kg)'].map(lambda x: str(x).replace(\",\",\"\"))\n",
    "SpaceX_Launches['Payload Mass (kg)'] = SpaceX_Launches['Payload Mass (kg)'].map(lambda x: x.strip())\n",
    "SpaceX_Launches['Payload Mass (kg)'] = SpaceX_Launches['Payload Mass (kg)'].map(lambda x: -999 if x == \"Classified\" else x)\n",
    "SpaceX_Launches['Payload Mass (kg)'] = SpaceX_Launches['Payload Mass (kg)'].map(lambda x: str(x).replace(\"~\",\"\"))\n",
    "SpaceX_Launches['Payload Mass (kg)'] = SpaceX_Launches['Payload Mass (kg)'].map(lambda x: -999 if x == \"nan\" else x)\n",
    "SpaceX_Launches['Payload Mass (kg)'] = pd.to_numeric(SpaceX_Launches['Payload Mass (kg)'])\n",
    "SpaceX_Launches['Payload Mass (kg)']"
   ]
  },
  {
   "cell_type": "markdown",
   "metadata": {},
   "source": [
    "All cleaned up! Now this is cleaner data. Maybe we can even plot it on a graph!"
   ]
  },
  {
   "cell_type": "code",
   "execution_count": 6,
   "metadata": {},
   "outputs": [],
   "source": [
    "plt.rcParams['figure.figsize'] = [15, 8]\n",
    "SpaceX_Launches[\"Date\"] = SpaceX_Launches[\"Date\"].astype('datetime64[ns]')\n",
    "SpaceX_Launches = SpaceX_Launches.set_index('Date')"
   ]
  },
  {
   "cell_type": "code",
   "execution_count": 7,
   "metadata": {},
   "outputs": [
    {
     "data": {
      "image/png": "[encoded data removed]",
      "text/plain": [
       "<Figure size 1080x576 with 1 Axes>"
      ]
     },
     "metadata": {},
     "output_type": "display_data"
    }
   ],
   "source": [
    "plt.scatter(SpaceX_Launches[\"Payload Mass (kg)\"].index, SpaceX_Launches[\"Payload Mass (kg)\"])\n",
    "plt.show()"
   ]
  },
  {
   "cell_type": "markdown",
   "metadata": {},
   "source": [
    "As time goes on, SpaceX seems to have launched heavier and heavier rockets. Interesting!  \n",
    "But let's not forget what we're here for - we want to look at the levels of ozone and compare them to rocket launch dates. So the first thing is to look at our ozone data. This time, the data is in folders that contain information on different types of gases. It'll be easier to download the data and import it by referencing the file. To do this easily...\n",
    "1. Make a folder for your data to be in.\n",
    "\n",
    " *Name this folder something like 'Workshop Working Directory'.*\n",
    " \n",
    " \n",
    "2. Extract the data into that folder.\n",
    "\n",
    " *Use a program like WinRAR (Windows) or the Archine Utility (Mac).*\n",
    "\n",
    "\n",
    "3. Set a variable labelled path to point to your Directory."
   ]
  },
  {
   "cell_type": "code",
   "execution_count": 8,
   "metadata": {},
   "outputs": [],
   "source": [
    "path = \"/Working Directory\""
   ]
  },
  {
   "cell_type": "markdown",
   "metadata": {},
   "source": [
    "If you go to your working directoy folder, you'll see 'The Four Gases in Cohorts' has been extracted into a folder. Clicking on this takes you to... four more folders, each with the name of a different gas - Carbon Dioxide, Nitrogen Dioxide, Ozone, and Sulfur Dioxide. Clicking on the Ozone folder, you get a bunch of .csv files! There's way too many to work with. Luckily, each file corresponds to data in three-year intervals. To find out what data we should import, we can check to see the years the most common launches occured in.\n",
    "\n",
    "To do this, we can use the sort() and the table () functions on the Date coloumn."
   ]
  },
  {
   "cell_type": "code",
   "execution_count": null,
   "metadata": {},
   "outputs": [],
   "source": [
    "sort(table(as.numeric(format(as.Date(SpaceX_Launches$Date), '%Y'))),decreasing=TRUE)"
   ]
  },
  {
   "cell_type": "markdown",
   "metadata": {},
   "source": [
    "Conveniently (and somewhat predictably), the three years with the most flights are the three latest consecutive ones - 2016, 2017, and 2018. So, we can safely import the ozone data from years 2016-2018. Let's save it in a variable called Ozone_Data."
   ]
  },
  {
   "cell_type": "code",
   "execution_count": null,
   "metadata": {},
   "outputs": [],
   "source": [
    "Ozone_Data<-read_csv('The Four Gases in Cohorts//Ozone//Ozone levels from 2016 to 2018.csv')"
   ]
  },
  {
   "cell_type": "markdown",
   "metadata": {},
   "source": [
    "Fantastic! It seems that all the coloumns have been parsed. To take a peak at our data, we can use the **head()** function."
   ]
  },
  {
   "cell_type": "code",
   "execution_count": null,
   "metadata": {},
   "outputs": [],
   "source": [
    "head(Ozone_Data)"
   ]
  },
  {
   "cell_type": "markdown",
   "metadata": {},
   "source": [
    "There seems to be a lot of coloumns - in fact, there's a '...', representing that the head() function skipped a few coloumns when showing the first six rows. This happens to datasets with a large number of coloumns.\n",
    "\n",
    "To further our investigation, we can check the number of rows and the number of coloumns our dataset has with the **nrow()** and the **ncol()** functions respectively."
   ]
  },
  {
   "cell_type": "code",
   "execution_count": null,
   "metadata": {},
   "outputs": [],
   "source": [
    "nrow(Ozone_Data)\n",
    "ncol(Ozone_Data)"
   ]
  },
  {
   "cell_type": "markdown",
   "metadata": {},
   "source": [
    "That's a lot of coloumns! It's very unlikely that all of them are going to be useful to us. To check out the names of these coloumns, including the 'hidden' ones that the head() function isn't showing us, we can use the **names()** function."
   ]
  },
  {
   "cell_type": "code",
   "execution_count": null,
   "metadata": {},
   "outputs": [],
   "source": [
    "names(Ozone_Data)"
   ]
  },
  {
   "cell_type": "markdown",
   "metadata": {},
   "source": [
    "How do we decide what stays and what we should keep? There seem to be an endless amount of choices! One way to lessen the load is to take a look at the **Readme** file for this dataset. The Readme file can be found [here](https://aqs.epa.gov/aqsweb/airdata/FileFormats.html#_daily_summary_files).\n",
    "\n",
    "Reading it, it seems we want to keep location info, time info, and info the best summarizes the measurement of the day.\n",
    "\n",
    "**Location Data**  \n",
    "Things like 'Address' or 'City Name' might actually give us too much information, or information not easily worked with, so let's keep Longitude and Latitude. This is numeric data that is easier to quanitfy.\n",
    "As well, the Readme file describes the Site.Num coloumn as _a unique number within the county identifying the site_, which could also be useful in singling out sites!\n",
    "Lastly, to have something left to more easily compare the SpaceX Launch data, we'll leave in County data.\n",
    "\n",
    "_Let's keep Site.Num, Latitude, Longitude, and County._\n",
    "\n",
    "**Time Data**  \n",
    "For this, we'll take the local date. Remember, this is the date according to local measurements, so we'd have to consider this if we want to work with timezones.\n",
    "\n",
    "_Let's keep Date.Local._\n",
    "\n",
    "**Measurements**  \n",
    "There's a load of data here, but generally we can keep the measurements for the Arithmetic Mean of the ozone concentration, the units of measurements they're in (in case we have to convert) and, for the sake of investigation and interest, we can keep the Air Quality Index to compare the effect of ozone concentration.\n",
    "\n",
    "_Let's keep Arithmetic.Mean and AQI._"
   ]
  },
  {
   "cell_type": "code",
   "execution_count": null,
   "metadata": {},
   "outputs": [],
   "source": [
    "Ozone_Data<-Ozone_Data[c('Site.Num', 'Latitude', 'Longitude', 'Date.Local', 'Units.of.Measure', 'Arithmetic.Mean', 'AQI', 'County.Name')]\n",
    "head(Ozone_Data)"
   ]
  },
  {
   "cell_type": "code",
   "execution_count": null,
   "metadata": {},
   "outputs": [],
   "source": [
    "length(unique(Ozone_Data$Site.Num))-length(unique(Ozone_Data$Latitude))"
   ]
  },
  {
   "cell_type": "code",
   "execution_count": null,
   "metadata": {},
   "outputs": [],
   "source": [
    "unique(Ozone_Data$Units.of.Measure)"
   ]
  },
  {
   "cell_type": "code",
   "execution_count": null,
   "metadata": {},
   "outputs": [],
   "source": [
    "Ozone_Data<-Ozone_Data[-c(1, 5)]\n",
    "head(Ozone_Data)"
   ]
  },
  {
   "cell_type": "code",
   "execution_count": null,
   "metadata": {},
   "outputs": [],
   "source": [
    "names(Ozone_Data)[6]<-'County'"
   ]
  },
  {
   "cell_type": "code",
   "execution_count": null,
   "metadata": {},
   "outputs": [],
   "source": [
    "summary(Ozone_Data)"
   ]
  },
  {
   "cell_type": "code",
   "execution_count": null,
   "metadata": {},
   "outputs": [],
   "source": [
    "outliers<-Ozone_Data[Ozone_Data$Arithmetic.Mean<0,]"
   ]
  },
  {
   "cell_type": "code",
   "execution_count": null,
   "metadata": {},
   "outputs": [],
   "source": [
    "head(outliers)"
   ]
  },
  {
   "cell_type": "code",
   "execution_count": null,
   "metadata": {},
   "outputs": [],
   "source": [
    "Ozone_Data<-Ozone_Data[-Ozone_Data$Arithmetic.Mean<0,]"
   ]
  },
  {
   "cell_type": "code",
   "execution_count": null,
   "metadata": {},
   "outputs": [],
   "source": [
    "summary(Ozone_Data)"
   ]
  },
  {
   "cell_type": "markdown",
   "metadata": {},
   "source": [
    "Let's take a look at the standard deviation of our ozone measurements."
   ]
  },
  {
   "cell_type": "code",
   "execution_count": null,
   "metadata": {},
   "outputs": [],
   "source": [
    "sd(Ozone_Data$Arithmetic.Mean)"
   ]
  },
  {
   "cell_type": "code",
   "execution_count": null,
   "metadata": {},
   "outputs": [],
   "source": [
    "hist(Ozone_Data$Arithmetic.Mean)"
   ]
  },
  {
   "cell_type": "code",
   "execution_count": null,
   "metadata": {},
   "outputs": [],
   "source": [
    "hist(Ozone_Data$Arithmetic.Mean, prob=TRUE)\n",
    "lines(density(Ozone_Data$Arithmetic.Mean, adjust=3), col=\"red\", lwd=2) "
   ]
  },
  {
   "cell_type": "code",
   "execution_count": null,
   "metadata": {},
   "outputs": [],
   "source": [
    "cor(Ozone_Data$Arithmetic.Mean, Ozone_Data$AQI)"
   ]
  },
  {
   "cell_type": "code",
   "execution_count": null,
   "metadata": {},
   "outputs": [],
   "source": [
    "install.packages(\"tidyverse\", dependencies=TRUE, repos='http://cran.utstat.utoronto.ca/')\n",
    "install.packages(\"bindrcpp\", dependencies=TRUE, repos='http://cran.utstat.utoronto.ca/')\n",
    "library(tidyverse)"
   ]
  },
  {
   "cell_type": "code",
   "execution_count": null,
   "metadata": {},
   "outputs": [],
   "source": []
  },
  {
   "cell_type": "code",
   "execution_count": null,
   "metadata": {},
   "outputs": [],
   "source": [
    "unique(SpaceX_Launches$'Launch Site')"
   ]
  },
  {
   "cell_type": "markdown",
   "metadata": {},
   "source": [
    "There are only three sites here! In order to link our datasets geographically, we can find out what counties these sites are in and then create a new coloumn."
   ]
  },
  {
   "cell_type": "code",
   "execution_count": null,
   "metadata": {
    "scrolled": false
   },
   "outputs": [],
   "source": [
    "SpaceX_Launches<-transform(SpaceX_Launches, County=ifelse(SpaceX_Launches$'Launch Site'=='VAFB SLC-4E', \n",
    "                                         'Santa Barbara', \n",
    "                                         'Brevard'\n",
    "                                        ))"
   ]
  },
  {
   "cell_type": "code",
   "execution_count": null,
   "metadata": {},
   "outputs": [],
   "source": [
    "names(Ozone_Data)[3]<-'Date'"
   ]
  },
  {
   "cell_type": "code",
   "execution_count": null,
   "metadata": {},
   "outputs": [],
   "source": [
    "SB_Ozone<-Ozone_Data[Ozone_Data$County=='Santa Barbara',]\n",
    "Brevard_Ozone<-Ozone_Data[Ozone_Data$County=='Brevard',]"
   ]
  },
  {
   "cell_type": "code",
   "execution_count": null,
   "metadata": {},
   "outputs": [],
   "source": [
    "head(Brevard_Ozone)"
   ]
  },
  {
   "cell_type": "code",
   "execution_count": null,
   "metadata": {},
   "outputs": [],
   "source": [
    "Brevard_Launches<-SpaceX_Launches[SpaceX_Launches$County=='Brevard',]\n",
    "SB_Launches<-SpaceX_Launches[SpaceX_Launches$County=='Santa Barbara',]"
   ]
  },
  {
   "cell_type": "code",
   "execution_count": null,
   "metadata": {},
   "outputs": [],
   "source": [
    "library(ggplot2)"
   ]
  },
  {
   "cell_type": "code",
   "execution_count": null,
   "metadata": {},
   "outputs": [],
   "source": [
    "ggplot(data=Ozone_Data, aes(x=Ozone_Data$Date, y=Ozone_Data$'Arithmetic.Mean')) + geom_line()"
   ]
  },
  {
   "cell_type": "code",
   "execution_count": null,
   "metadata": {},
   "outputs": [],
   "source": [
    "agg_Ozone<-aggregate(Arithmetic.Mean~Date, Ozone_Data, mean)"
   ]
  },
  {
   "cell_type": "code",
   "execution_count": null,
   "metadata": {},
   "outputs": [],
   "source": [
    "ggplot(data=agg_Ozone, aes(x=agg_Ozone$Date, y=agg_Ozone$'Arithmetic.Mean')) + \n",
    "geom_line()"
   ]
  },
  {
   "cell_type": "code",
   "execution_count": null,
   "metadata": {},
   "outputs": [],
   "source": [
    "ggplot(data=agg_Ozone, aes(x=Date, y=Arithmetic.Mean)) + \n",
    "geom_line() + \n",
    "geom_smooth()"
   ]
  },
  {
   "cell_type": "code",
   "execution_count": null,
   "metadata": {},
   "outputs": [],
   "source": [
    "install.packages('plotly', repos='http://cran.r-project.org')\n",
    "library(plotly)"
   ]
  },
  {
   "cell_type": "code",
   "execution_count": null,
   "metadata": {},
   "outputs": [],
   "source": [
    "ggplot(data=agg_Ozone, aes(x=Date, y=Arithmetic.Mean)) + \n",
    "geom_line() + \n",
    "geom_smooth() +\n",
    "facet_wrap(~format(as.Date(Date, \"Y/%M/%D\"), '%Y'), ncol=1)"
   ]
  },
  {
   "cell_type": "code",
   "execution_count": null,
   "metadata": {},
   "outputs": [],
   "source": [
    "myPlot<-ggplot(data=agg_Ozone, aes(x=Date, y=Arithmetic.Mean)) + \n",
    "geom_line() + \n",
    "geom_smooth() +\n",
    "facet_wrap(~format(as.Date(Date, \"Y/%M/%D\"), '%Y'), ncol=1)\n",
    "\n",
    "ggplotly(myPlot)"
   ]
  },
  {
   "cell_type": "code",
   "execution_count": null,
   "metadata": {
    "scrolled": true
   },
   "outputs": [],
   "source": [
    "install.packages(\"ggmap\", repos='http://cran.r-project.org', force=TRUE)\n",
    "library(\"ggmap\")"
   ]
  },
  {
   "cell_type": "code",
   "execution_count": null,
   "metadata": {},
   "outputs": [],
   "source": [
    "head(Ozone_Data)"
   ]
  },
  {
   "cell_type": "code",
   "execution_count": null,
   "metadata": {
    "scrolled": true
   },
   "outputs": [],
   "source": [
    "myMap<-get_map(location='United States',zoom=4)"
   ]
  },
  {
   "cell_type": "code",
   "execution_count": null,
   "metadata": {
    "scrolled": true
   },
   "outputs": [],
   "source": [
    "ggmap(myMap)"
   ]
  },
  {
   "cell_type": "code",
   "execution_count": null,
   "metadata": {},
   "outputs": [],
   "source": [
    "ggmap(myMap)+\n",
    "geom_point(data=Ozone_Data, aes(x=Longitude, y=Latitude))"
   ]
  },
  {
   "cell_type": "code",
   "execution_count": null,
   "metadata": {},
   "outputs": [],
   "source": [
    "set.seed(42)"
   ]
  },
  {
   "cell_type": "code",
   "execution_count": null,
   "metadata": {},
   "outputs": [],
   "source": [
    "clusters<-kmeans(Ozone_Data[c('Longitude', 'Latitude')], 6)"
   ]
  },
  {
   "cell_type": "code",
   "execution_count": null,
   "metadata": {},
   "outputs": [],
   "source": [
    "names(clusters)"
   ]
  },
  {
   "cell_type": "code",
   "execution_count": null,
   "metadata": {},
   "outputs": [],
   "source": [
    "length(clusters$cluster)"
   ]
  },
  {
   "cell_type": "code",
   "execution_count": null,
   "metadata": {},
   "outputs": [],
   "source": [
    "Ozone_Data[ncol(Ozone_Data)+1]<-clusters$cluster"
   ]
  },
  {
   "cell_type": "code",
   "execution_count": null,
   "metadata": {},
   "outputs": [],
   "source": []
  },
  {
   "cell_type": "code",
   "execution_count": null,
   "metadata": {},
   "outputs": [],
   "source": [
    "head(Ozone_Data)"
   ]
  },
  {
   "cell_type": "code",
   "execution_count": null,
   "metadata": {},
   "outputs": [],
   "source": [
    "names(Ozone_Data)[7]<-'Zone'"
   ]
  },
  {
   "cell_type": "code",
   "execution_count": null,
   "metadata": {},
   "outputs": [],
   "source": [
    "ggmap(myMap)+\n",
    "geom_point(data=Ozone_Data, aes(x=Longitude, y=Latitude, col=as.character(Zone)))"
   ]
  },
  {
   "cell_type": "code",
   "execution_count": null,
   "metadata": {},
   "outputs": [],
   "source": [
    "ggplot(data=Brevard_Ozone, aes(x=Date, y=Arithmetic.Mean)) + \n",
    "geom_line() + \n",
    "geom_smooth()"
   ]
  },
  {
   "cell_type": "code",
   "execution_count": null,
   "metadata": {},
   "outputs": [],
   "source": [
    "Brevard_Ozone<-(aggregate(Arithmetic.Mean~Date, Brevard_Ozone, mean))"
   ]
  },
  {
   "cell_type": "code",
   "execution_count": null,
   "metadata": {},
   "outputs": [],
   "source": [
    "ggplot(data=Brevard_Ozone, aes(x=Date, y=Arithmetic.Mean)) + \n",
    "geom_line() + \n",
    "geom_smooth(method='lm')"
   ]
  },
  {
   "cell_type": "code",
   "execution_count": null,
   "metadata": {},
   "outputs": [],
   "source": [
    "Brev_Ozone_Launch<-merge(Brevard_Ozone, Brevard_Launches, by='Date')"
   ]
  },
  {
   "cell_type": "code",
   "execution_count": null,
   "metadata": {},
   "outputs": [],
   "source": [
    "ggplot(data=Brevard_Ozone, aes(x=Date, y=Arithmetic.Mean)) + \n",
    "geom_line() + \n",
    "geom_vline(data=Brevard_Launches, aes(xintercept=Date), col='orange', size=1, alpha=0.5) +\n",
    "geom_label(data=Brev_Ozone_Launch, aes(x=Date, y=Arithmetic.Mean, label=Payload)) +\n",
    "geom_point(data=Brev_Ozone_Launch, aes(x=Date, y=Arithmetic.Mean, label=Payload), col='red')"
   ]
  },
  {
   "cell_type": "code",
   "execution_count": null,
   "metadata": {},
   "outputs": [],
   "source": [
    "install.packages(\"ggrepel\", repos='http://cran.utstat.utoronto.ca/')\n",
    "library(ggrepel)"
   ]
  },
  {
   "cell_type": "code",
   "execution_count": null,
   "metadata": {},
   "outputs": [],
   "source": [
    "myPlot2<-ggplot(data=Brevard_Ozone, aes(x=Date, y=Arithmetic.Mean)) + \n",
    "geom_line() + \n",
    "#geom_vline(data=Brevard_Launches, aes(xintercept=Date), col='orange', size=1, alpha=0.5) +\n",
    "geom_label_repel(data=Brev_Ozone_Launch, aes(x=Date, y=Arithmetic.Mean, label=Payload)) +\n",
    "geom_point(data=Brev_Ozone_Launch, aes(x=Date, y=Arithmetic.Mean), col='red')\n",
    "myPlot2"
   ]
  },
  {
   "cell_type": "code",
   "execution_count": null,
   "metadata": {},
   "outputs": [],
   "source": [
    "ggplotly(myPlot2)"
   ]
  },
  {
   "cell_type": "markdown",
   "metadata": {},
   "source": [
    "Is it safe to say that SpaceX Launches *do* cause a decrease in ozone? Not really. It seems we might want to take a closer look time-wise. Conveniently, we already have ozone data in hourly format! Let's import it now for the Brevard County."
   ]
  },
  {
   "cell_type": "code",
   "execution_count": null,
   "metadata": {},
   "outputs": [],
   "source": [
    "Brevard_Hourly<-read_csv('2017 Hourly Brevard Data.csv')\n",
    "head(Brevard_Hourly)"
   ]
  },
  {
   "cell_type": "markdown",
   "metadata": {},
   "source": [
    "Hmm... what an interesting dataset!"
   ]
  },
  {
   "cell_type": "code",
   "execution_count": null,
   "metadata": {},
   "outputs": [],
   "source": [
    "summary(Brevard_Hourly)"
   ]
  },
  {
   "cell_type": "code",
   "execution_count": null,
   "metadata": {},
   "outputs": [],
   "source": [
    "class(Brevard_Hourly$'Local Datetime (EDT)')"
   ]
  },
  {
   "cell_type": "code",
   "execution_count": null,
   "metadata": {},
   "outputs": [],
   "source": [
    "Brevard_Hourly$'Local Datetime (EDT)'<-as.POSIXct(strptime(Brevard_Hourly$'Local Datetime (EDT)', format=\"%Y-%m-%d %H:%M\"))"
   ]
  },
  {
   "cell_type": "code",
   "execution_count": null,
   "metadata": {},
   "outputs": [],
   "source": [
    "summary(Brevard_Hourly)"
   ]
  },
  {
   "cell_type": "code",
   "execution_count": null,
   "metadata": {},
   "outputs": [],
   "source": [
    "Launches17<-Brevard_Launches[format(as.Date(Brevard_Launches$Date, \"Y/%M/%D\"), '%Y')=='2017',]"
   ]
  },
  {
   "cell_type": "code",
   "execution_count": null,
   "metadata": {},
   "outputs": [],
   "source": [
    "nrow(Launches17)"
   ]
  },
  {
   "cell_type": "code",
   "execution_count": null,
   "metadata": {},
   "outputs": [],
   "source": [
    "names(Brevard_Hourly)[c(3,4)]<-c('Datetime', 'Measurement')"
   ]
  },
  {
   "cell_type": "code",
   "execution_count": null,
   "metadata": {},
   "outputs": [],
   "source": [
    "Launches17<-transform(Launches17, Datetime=as.character(paste(Date, Time..UTC.)))"
   ]
  },
  {
   "cell_type": "code",
   "execution_count": null,
   "metadata": {},
   "outputs": [],
   "source": [
    "times<-as.POSIXct(Launches17$Datetime, tz='GMT')\n",
    "attributes(times)$tzone<-'EST'\n",
    "Launches17$Datetime<-times"
   ]
  },
  {
   "cell_type": "code",
   "execution_count": null,
   "metadata": {},
   "outputs": [],
   "source": [
    "class(Brevard_Hourly$Datetime)"
   ]
  },
  {
   "cell_type": "code",
   "execution_count": null,
   "metadata": {},
   "outputs": [],
   "source": [
    "ggplot(data=Brevard_Hourly, aes(x=Datetime, y=Measurement)) +\n",
    "geom_line()"
   ]
  },
  {
   "cell_type": "code",
   "execution_count": null,
   "metadata": {},
   "outputs": [],
   "source": [
    "Brevard_Hourly<-aggregate(Measurement~Datetime, Brevard_Hourly, mean)"
   ]
  },
  {
   "cell_type": "code",
   "execution_count": null,
   "metadata": {},
   "outputs": [],
   "source": [
    "ggplot(data=Brevard_Hourly, aes(x=Datetime, y=Measurement)) +\n",
    "geom_line() +\n",
    "geom_smooth()"
   ]
  },
  {
   "cell_type": "code",
   "execution_count": null,
   "metadata": {},
   "outputs": [],
   "source": [
    "start<-Launches17$Datetime"
   ]
  },
  {
   "cell_type": "code",
   "execution_count": null,
   "metadata": {},
   "outputs": [],
   "source": [
    "end<-start+1*60*60*12"
   ]
  },
  {
   "cell_type": "code",
   "execution_count": null,
   "metadata": {},
   "outputs": [],
   "source": [
    "rects<-data.frame(start, end)"
   ]
  },
  {
   "cell_type": "code",
   "execution_count": null,
   "metadata": {},
   "outputs": [],
   "source": [
    "ggplot(data=Brevard_Hourly, aes(x=Datetime, y=Measurement)) +\n",
    "geom_line() +\n",
    "geom_smooth()+\n",
    "geom_rect(data=rects, inherit.aes=FALSE, aes(xmin=start, xmax=end, ymin=-Inf,\n",
    "                ymax=Inf), color=\"transparent\", fill=\"orange\", alpha=0.55)"
   ]
  },
  {
   "cell_type": "code",
   "execution_count": null,
   "metadata": {},
   "outputs": [],
   "source": [
    "lower<-as.character(as.Date(start[1])-1)\n",
    "upper<-as.character(as.Date(start[1])+2)"
   ]
  },
  {
   "cell_type": "code",
   "execution_count": null,
   "metadata": {},
   "outputs": [],
   "source": [
    "First_Ozone<-Brevard_Hourly[Brevard_Hourly$Datetime>=lower & Brevard_Hourly$Datetime<=upper,]"
   ]
  },
  {
   "cell_type": "code",
   "execution_count": null,
   "metadata": {},
   "outputs": [],
   "source": [
    "ggplot(data=First_Ozone, aes(x=Datetime, y=Measurement)) +\n",
    "geom_line() +\n",
    "geom_rect(data=rects[1,], inherit.aes=FALSE, aes(xmin=start, xmax=end, ymin=-Inf,\n",
    "                ymax=Inf), color=\"transparent\", fill=\"orange\", alpha=0.55)"
   ]
  },
  {
   "cell_type": "code",
   "execution_count": null,
   "metadata": {},
   "outputs": [],
   "source": [
    "visualizr<-function(index)\n",
    "{\n",
    "    lower<-as.character(as.Date(start[index])-1)\n",
    "    upper<-as.character(as.Date(start[index])+2)\n",
    "    Index_Ozone<-Brevard_Hourly[Brevard_Hourly$Datetime>=lower & Brevard_Hourly$Datetime<=upper,]\n",
    "    \n",
    "    myPlot3 <- ggplot(data=Index_Ozone, aes(x=Datetime, y=Measurement)) +\n",
    "    geom_line() +\n",
    "    geom_rect(data=rects[index,], inherit.aes=FALSE, aes(xmin=start, xmax=end, ymin=-Inf,\n",
    "                ymax=Inf), color=\"transparent\", fill=\"orange\", alpha=0.5) +\n",
    "    geom_vline(xintercept=start[index], col='navy', size=1.5, alpha=0.5)\n",
    "    \n",
    "    return(myPlot3)\n",
    "}"
   ]
  },
  {
   "cell_type": "code",
   "execution_count": null,
   "metadata": {},
   "outputs": [],
   "source": [
    "visualizr(11)"
   ]
  },
  {
   "cell_type": "code",
   "execution_count": null,
   "metadata": {},
   "outputs": [],
   "source": [
    "Nitrogen_Data<-read_csv('The Four Gases in Cohorts//Nitrogen Dioxide//Nitrogen Dioxide levels from 2016 to 2018.csv')"
   ]
  },
  {
   "cell_type": "code",
   "execution_count": null,
   "metadata": {},
   "outputs": [],
   "source": [
    "head(Nitrogen_Data)"
   ]
  },
  {
   "cell_type": "code",
   "execution_count": null,
   "metadata": {},
   "outputs": [],
   "source": [
    "names(Nitrogen_Data)"
   ]
  },
  {
   "cell_type": "code",
   "execution_count": null,
   "metadata": {},
   "outputs": [],
   "source": [
    "unique(Nitrogen_Data$Units.of.Measure)"
   ]
  },
  {
   "cell_type": "code",
   "execution_count": null,
   "metadata": {},
   "outputs": [],
   "source": [
    "class(Nitrogen_Data$Units.of.Measure)"
   ]
  },
  {
   "cell_type": "code",
   "execution_count": null,
   "metadata": {},
   "outputs": [],
   "source": [
    "Nitrogen_Data$Arithmetic.Mean<-Nitrogen_Data$Arithmetic.Mean/1000"
   ]
  },
  {
   "cell_type": "code",
   "execution_count": null,
   "metadata": {},
   "outputs": [],
   "source": [
    "Nitrogen_Data<-Nitrogen_Data[c('Latitude', 'Longitude', 'Date.Local', 'Arithmetic.Mean', 'AQI')]"
   ]
  },
  {
   "cell_type": "code",
   "execution_count": null,
   "metadata": {},
   "outputs": [],
   "source": [
    "head(Nitrogen_Data)"
   ]
  },
  {
   "cell_type": "code",
   "execution_count": null,
   "metadata": {},
   "outputs": [],
   "source": [
    "names(Nitrogen_Data)[c(3:5)]<-c('Date', 'Nitrogen.Mean', \"Nitrogen.AQI\")"
   ]
  },
  {
   "cell_type": "code",
   "execution_count": null,
   "metadata": {},
   "outputs": [],
   "source": [
    "names(Ozone_Data)"
   ]
  },
  {
   "cell_type": "code",
   "execution_count": null,
   "metadata": {},
   "outputs": [],
   "source": [
    "names(Ozone_Data)[c(4,5)]<-c('Ozone.Mean', \"Ozone.AQI\")"
   ]
  },
  {
   "cell_type": "code",
   "execution_count": null,
   "metadata": {},
   "outputs": [],
   "source": [
    "Gas_Data<-merge(Ozone_Data, Nitrogen_Data, by=c('Longitude', 'Latitude', 'Date'))"
   ]
  },
  {
   "cell_type": "code",
   "execution_count": null,
   "metadata": {},
   "outputs": [],
   "source": [
    "ggplot(data=Gas_Data, aes(x=Nitrogen.Mean, y=Ozone.Mean)) + geom_point()"
   ]
  },
  {
   "cell_type": "code",
   "execution_count": null,
   "metadata": {},
   "outputs": [],
   "source": [
    "ggplot(data=Gas_Data, aes(x=Nitrogen.Mean, y=Ozone.Mean)) + geom_point() + xlim(0, 0.06)"
   ]
  },
  {
   "cell_type": "code",
   "execution_count": null,
   "metadata": {},
   "outputs": [],
   "source": [
    "GasPlot<-ggplot(data=Gas_Data, aes(x=Nitrogen.Mean, y=Ozone.Mean)) + geom_point(size=0.01, alpha=0.1) + xlim(0, 0.06)\n",
    "GasPlot"
   ]
  },
  {
   "cell_type": "code",
   "execution_count": null,
   "metadata": {},
   "outputs": [],
   "source": [
    "GasPlot + geom_smooth(method='lm')"
   ]
  },
  {
   "cell_type": "code",
   "execution_count": null,
   "metadata": {},
   "outputs": [],
   "source": [
    "xy.covar<-cov(Gas_Data$Nitrogen.Mean, Gas_Data$Ozone.Mean, )\n",
    "x.var<-var(Gas_Data$Nitrogen.Mean)"
   ]
  },
  {
   "cell_type": "code",
   "execution_count": null,
   "metadata": {},
   "outputs": [],
   "source": [
    "lin.slope=xy.covar/x.var"
   ]
  },
  {
   "cell_type": "code",
   "execution_count": null,
   "metadata": {},
   "outputs": [],
   "source": [
    "lin.y.int<-mean(Gas_Data$Ozone.Mean) - mean(Gas_Data$Nitrogen.Mean)*lin.slope"
   ]
  },
  {
   "cell_type": "code",
   "execution_count": null,
   "metadata": {},
   "outputs": [],
   "source": [
    "GasPlot + geom_abline(slope=lin.slope, intercept=lin.y.int, size=1, col='darkred')"
   ]
  },
  {
   "cell_type": "code",
   "execution_count": null,
   "metadata": {},
   "outputs": [],
   "source": [
    "GasPlot <- GasPlot + geom_abline(slope=lin.slope, intercept=lin.y.int, size=1, col='darkred')"
   ]
  },
  {
   "cell_type": "code",
   "execution_count": null,
   "metadata": {},
   "outputs": [],
   "source": [
    "get_r<-function(x,y)\n",
    "{\n",
    "    top<-(length(x)*sum(x*y)) - (sum(x)*sum(y))\n",
    "    bottom<-(length(x)*sum(x^2)-sum(x)^2)*(length(y)*sum(y^2)-sum(y)^2)\n",
    "    print(top)\n",
    "    print(bottom)\n",
    "    return(top/bottom)\n",
    "}"
   ]
  },
  {
   "cell_type": "code",
   "execution_count": null,
   "metadata": {},
   "outputs": [],
   "source": []
  },
  {
   "cell_type": "code",
   "execution_count": null,
   "metadata": {},
   "outputs": [],
   "source": []
  },
  {
   "cell_type": "code",
   "execution_count": null,
   "metadata": {},
   "outputs": [],
   "source": []
  },
  {
   "cell_type": "code",
   "execution_count": null,
   "metadata": {},
   "outputs": [],
   "source": [
    "get_r(Gas_Data$Nitrogen.Mean, Gas_Data$Ozone.Mean)->r.cof"
   ]
  },
  {
   "cell_type": "code",
   "execution_count": null,
   "metadata": {},
   "outputs": [],
   "source": [
    "r.cof"
   ]
  },
  {
   "cell_type": "code",
   "execution_count": null,
   "metadata": {},
   "outputs": [],
   "source": [
    "lin.info<-paste('Slope:', round(lin.slope, 3), '\\n Y-Int:', round(lin.y.int, 3), '\\n R:', round(r.cof, 10), '\\n R-Squared:', round((r.cof)^2, 17))\n",
    "lin.info"
   ]
  },
  {
   "cell_type": "code",
   "execution_count": null,
   "metadata": {},
   "outputs": [],
   "source": [
    "GasPlot + geom_text(inherit.aes=FALSE, aes(x=0.04, y=0.1, label=lin.info))"
   ]
  },
  {
   "cell_type": "code",
   "execution_count": null,
   "metadata": {},
   "outputs": [],
   "source": []
  },
  {
   "cell_type": "code",
   "execution_count": null,
   "metadata": {},
   "outputs": [],
   "source": []
  }
 ],
 "metadata": {
  "kernelspec": {
   "display_name": "Python 3",
   "language": "python",
   "name": "python3"
  },
  "language_info": {
   "codemirror_mode": {
    "name": "ipython",
    "version": 3
   },
   "file_extension": ".py",
   "mimetype": "text/x-python",
   "name": "python",
   "nbconvert_exporter": "python",
   "pygments_lexer": "ipython3",
   "version": "3.6.5"
  }
 },
 "nbformat": 4,
 "nbformat_minor": 2
}
